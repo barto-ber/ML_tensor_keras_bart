{
 "cells": [
  {
   "cell_type": "code",
   "execution_count": 3,
   "metadata": {},
   "outputs": [],
   "source": [
    "import pandas as pd\n",
    "import numpy as np\n",
    "import matplotlib.pyplot as plt\n",
    "%matplotlib inline\n",
    "from sklearn.preprocessing import OneHotEncoder, StandardScaler, MinMaxScaler, label_binarize\n",
    "from sklearn.model_selection import train_test_split, GridSearchCV, cross_val_predict\n",
    "from sklearn.pipeline import Pipeline"
   ]
  },
  {
   "cell_type": "code",
   "execution_count": 4,
   "metadata": {},
   "outputs": [],
   "source": [
    "dtrain = pd.read_csv(\"D:\\Coding_data/fashion-mnist_train.csv\")\n",
    "dtest = pd.read_csv(\"D:\\Coding_data/fashion-mnist_test.csv\")"
   ]
  },
  {
   "cell_type": "code",
   "execution_count": 11,
   "metadata": {},
   "outputs": [],
   "source": [
    "dvalid = dtrain[:5000]\n",
    "dtrain = dtrain[5000:]"
   ]
  },
  {
   "cell_type": "code",
   "execution_count": 12,
   "metadata": {},
   "outputs": [
    {
     "name": "stdout",
     "output_type": "stream",
     "text": [
      "Train shape:\n",
      " (55000, 785)\n",
      "Validation shape:\n",
      " (5000, 785)\n",
      "Test shape:\n",
      " (10000, 785)\n"
     ]
    }
   ],
   "source": [
    "print(\"Train shape:\\n\", dtrain.shape)\n",
    "print(\"Validation shape:\\n\", dvalid.shape)\n",
    "print(\"Test shape:\\n\", dtest.shape)"
   ]
  },
  {
   "cell_type": "code",
   "execution_count": 14,
   "metadata": {},
   "outputs": [],
   "source": [
    "predict = 'label'\n",
    "\n",
    "dtrain_X = dtrain.drop(predict, axis=1)\n",
    "dtrain_y = dtrain[predict]\n",
    "\n",
    "dtest_X = dtest.drop(predict, axis=1)\n",
    "dtest_y = dtest[predict]\n",
    "\n",
    "X_train, X_valid, y_train, y_valid = train_test_split(dtrain_X, dtrain_y, test_size=0.1, random_state=42, stratify=dtrain['label'])"
   ]
  },
  {
   "cell_type": "code",
   "execution_count": null,
   "metadata": {},
   "outputs": [],
   "source": []
  },
  {
   "cell_type": "code",
   "execution_count": null,
   "metadata": {},
   "outputs": [],
   "source": []
  }
 ],
 "metadata": {
  "kernelspec": {
   "display_name": "Python 3",
   "language": "python",
   "name": "python3"
  },
  "language_info": {
   "codemirror_mode": {
    "name": "ipython",
    "version": 3
   },
   "file_extension": ".py",
   "mimetype": "text/x-python",
   "name": "python",
   "nbconvert_exporter": "python",
   "pygments_lexer": "ipython3",
   "version": "3.7.7"
  }
 },
 "nbformat": 4,
 "nbformat_minor": 4
}
